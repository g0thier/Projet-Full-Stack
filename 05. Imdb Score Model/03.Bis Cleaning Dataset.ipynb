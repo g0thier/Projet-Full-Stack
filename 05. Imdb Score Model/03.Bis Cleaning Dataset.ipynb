{
 "cells": [
  {
   "cell_type": "code",
   "execution_count": 1,
   "metadata": {},
   "outputs": [
    {
     "name": "stdout",
     "output_type": "stream",
     "text": [
      "304234\n",
      "304071\n"
     ]
    }
   ],
   "source": [
    "# https://www.youtube.com/watch?app=desktop&v=IEEhzQoKtQU&feature=youtu.be\n",
    "# https://www.sbert.net/docs/quickstart.html#comparing-sentence-similarities\n",
    "\n",
    "import pandas as pd\n",
    "import numpy as np\n",
    "import threading\n",
    "from sentence_transformers import SentenceTransformer, util\n",
    "import warnings\n",
    "warnings.filterwarnings(\"ignore\")\n",
    "\n",
    "dataset = pd.read_csv(\"export/temps/dataset.csv\", delimiter=',', on_bad_lines='skip')\n",
    "model = SentenceTransformer('all-MiniLM-L6-v2')\n",
    "print(len(dataset))\n",
    "dataset = dataset.drop_duplicates()\n",
    "print(len(dataset))"
   ]
  },
  {
   "cell_type": "code",
   "execution_count": 2,
   "metadata": {},
   "outputs": [],
   "source": [
    "# Convert string Genre to list\n",
    "dataset = dataset.rename(columns={\"genres\": \"genre\"})\n",
    "dataset[\"genre\"] = [ str(x).replace(' ', '') for x in dataset[\"genre\"][:] ]\n",
    "dataset[\"genres\"] = [ x.split(\",\") for x in dataset[\"genre\"][:] ]"
   ]
  },
  {
   "cell_type": "code",
   "execution_count": 3,
   "metadata": {},
   "outputs": [],
   "source": [
    "model = SentenceTransformer('all-MiniLM-L6-v2')\n",
    "\n",
    "dataset['genre'] = ''\n",
    "dataset['themaScore'] = 0.0\n",
    "\n",
    "def compute_themaScore(dataset):\n",
    "    data = dataset.copy()\n",
    "\n",
    "    for i in range( len(data) ):\n",
    "        bestScore = 0.0\n",
    "        bestGenre = ''\n",
    "        for j in range(len(data.iloc[i]['genres'])):\n",
    "            result = util.cos_sim(model.encode(str(data.iloc[i]['genres'][j])), model.encode(str(data.iloc[i]['resume']))).tolist()[0][0]\n",
    "            if result > bestScore:\n",
    "                bestScore = result\n",
    "                bestGenre = data.iloc[i]['genres'][j]\n",
    "\n",
    "        #data.loc[i, 'themaScore'] = bestScore\n",
    "        #data.loc[i, 'genre'] = bestGenre\n",
    "        data['themaScore'][i] = bestScore\n",
    "        data['genre'][i] = bestGenre\n",
    "\n",
    "        #print(i,'/',len(data),bestGenre, bestScore)\n",
    "        #print(data.iloc[i])\n",
    "\n",
    "    return data\n",
    "\n",
    "t11 = compute_themaScore(dataset[290000:])\n",
    "t11 = t11.drop(columns=['genres'])\n",
    "t11.to_csv(r'temps/t11.csv', index = False, header=True)\n",
    "\n"
   ]
  },
  {
   "cell_type": "code",
   "execution_count": 14,
   "metadata": {},
   "outputs": [
    {
     "data": {
      "text/plain": [
       "\"\\nt2 = compute_themaScore(dataset[30000:60000])\\nt2 = t2.drop(columns=['genres'])\\nt2.to_csv(r'temps/t2.csv', index = False, header=True)\\n\\nt3 = compute_themaScore(dataset[60000:90000])\\nt3 = t3.drop(columns=['genres'])\\nt3.to_csv(r'temps/t3.csv', index = False, header=True)\\n\\nt4 = compute_themaScore(dataset[90000:120000])\\nt4 = t4.drop(columns=['genres'])\\nt4.to_csv(r'temps/t4.csv', index = False, header=True)\\n\\nt5 = compute_themaScore(dataset[120000:150000])\\nt5 = t5.drop(columns=['genres'])\\nt5.to_csv(r'temps/t5.csv', index = False, header=True)\\n\\nt6 = compute_themaScore(dataset[150000:180000])\\nt6 = t6.drop(columns=['genres'])\\nt6.to_csv(r'temps/t6.csv', index = False, header=True)\\n\\nt7 = compute_themaScore(dataset[180000:210000])\\nt7 = t7.drop(columns=['genres'])\\nt7.to_csv(r'temps/t7.csv', index = False, header=True)\\n\\nt8 = compute_themaScore(dataset[210000:240000])\\nt8 = t8.drop(columns=['genres'])\\nt8.to_csv(r'temps/t8.csv', index = False, header=True)\\n\\nt9 = compute_themaScore(dataset[240000:270000])\\nt9 = t9.drop(columns=['genres'])\\nt9.to_csv(r'temps/t9.csv', index = False, header=True)\\n\\nt10 = compute_themaScore(dataset[270000:290000])\\nt10 = t10.drop(columns=['genres'])\\nt10.to_csv(r'temps/t10.csv', index = False, header=True)\\n\""
      ]
     },
     "execution_count": 14,
     "metadata": {},
     "output_type": "execute_result"
    }
   ],
   "source": [
    "#t1 = compute_themaScore(dataset[:30000])\n",
    "#t1 = t1.drop(columns=['genres'])\n",
    "#t1.to_csv(r'temps/t1.csv', index = False, header=True)\n",
    "'''\n",
    "t2 = compute_themaScore(dataset[30000:60000])\n",
    "t2 = t2.drop(columns=['genres'])\n",
    "t2.to_csv(r'temps/t2.csv', index = False, header=True)\n",
    "\n",
    "t3 = compute_themaScore(dataset[60000:90000])\n",
    "t3 = t3.drop(columns=['genres'])\n",
    "t3.to_csv(r'temps/t3.csv', index = False, header=True)\n",
    "\n",
    "t4 = compute_themaScore(dataset[90000:120000])\n",
    "t4 = t4.drop(columns=['genres'])\n",
    "t4.to_csv(r'temps/t4.csv', index = False, header=True)\n",
    "\n",
    "t5 = compute_themaScore(dataset[120000:150000])\n",
    "t5 = t5.drop(columns=['genres'])\n",
    "t5.to_csv(r'temps/t5.csv', index = False, header=True)\n",
    "\n",
    "t6 = compute_themaScore(dataset[150000:180000])\n",
    "t6 = t6.drop(columns=['genres'])\n",
    "t6.to_csv(r'temps/t6.csv', index = False, header=True)\n",
    "\n",
    "t7 = compute_themaScore(dataset[180000:210000])\n",
    "t7 = t7.drop(columns=['genres'])\n",
    "t7.to_csv(r'temps/t7.csv', index = False, header=True)\n",
    "\n",
    "t8 = compute_themaScore(dataset[210000:240000])\n",
    "t8 = t8.drop(columns=['genres'])\n",
    "t8.to_csv(r'temps/t8.csv', index = False, header=True)\n",
    "\n",
    "t9 = compute_themaScore(dataset[240000:270000])\n",
    "t9 = t9.drop(columns=['genres'])\n",
    "t9.to_csv(r'temps/t9.csv', index = False, header=True)\n",
    "\n",
    "t10 = compute_themaScore(dataset[270000:290000])\n",
    "t10 = t10.drop(columns=['genres'])\n",
    "t10.to_csv(r'temps/t10.csv', index = False, header=True)\n",
    "'''\n",
    "\n",
    "\n",
    "t11 = compute_themaScore(dataset[290000:])\n",
    "t11 = t11.drop(columns=['genres'])\n",
    "t11.to_csv(r'temps/t11.csv', index = False, header=True)\n"
   ]
  },
  {
   "cell_type": "code",
   "execution_count": 15,
   "metadata": {},
   "outputs": [],
   "source": [
    "\n",
    "#dataset.to_csv(r'export/dataset.csv', index = False, header=True)\n",
    "#dataset = dataset.drop(columns=['genres'])"
   ]
  }
 ],
 "metadata": {
  "kernelspec": {
   "display_name": "Python 3.9.5 64-bit",
   "language": "python",
   "name": "python3"
  },
  "language_info": {
   "codemirror_mode": {
    "name": "ipython",
    "version": 3
   },
   "file_extension": ".py",
   "mimetype": "text/x-python",
   "name": "python",
   "nbconvert_exporter": "python",
   "pygments_lexer": "ipython3",
   "version": "3.9.5"
  },
  "orig_nbformat": 4,
  "vscode": {
   "interpreter": {
    "hash": "7812ea015bdcee6f23a998adcdd2ef97c151c0c241b7b7070987d9313e41299d"
   }
  }
 },
 "nbformat": 4,
 "nbformat_minor": 2
}
