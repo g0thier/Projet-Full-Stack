{
 "cells": [
  {
   "cell_type": "code",
   "execution_count": 5,
   "metadata": {},
   "outputs": [
    {
     "name": "stdout",
     "output_type": "stream",
     "text": [
      "304071\n",
      "98868\n"
     ]
    }
   ],
   "source": [
    "import pandas as pd\n",
    "import numpy as np\n",
    "\n",
    "dataset = pd.read_csv(f'temps/datasetWithPonderation.csv', delimiter=',', on_bad_lines='skip')\n",
    "print(len(dataset))\n",
    "'''\n",
    "for i in range(2,12):\n",
    "    importDF = pd.read_csv(f'temps/t{i}.csv', delimiter=',', on_bad_lines='skip')\n",
    "    dataset = dataset.append(importDF)\n",
    "    print(len(dataset))\n",
    "'''\n",
    "dataset = dataset.rename(columns={\"originalTitle\": \"title\", \"startYear\": \"year\", \"primaryName\" : \"director\", \"parental_advisor\" : \"parentalAdvisor\", \"averageRating\" : \"imdbRating\"})\n",
    "dataset = dataset.drop(columns=['title', 'director', 'resume'])\n",
    "dataset = dataset[dataset['genre'] != np.nan ]\n",
    "#dataset = dataset.dropna(subset=['year'])\n",
    "#dataset = dataset.dropna(subset=['imdbRating'])\n",
    "dataset = dataset.dropna(subset=['parentalAdvisor'])\n",
    "dataset = dataset.dropna(subset=['duree'])\n",
    "#dataset = dataset.dropna(subset=['genre'])\n",
    "dataset = dataset[dataset['themaScore'] != 0 ]\n",
    "dataset = dataset.reindex()\n",
    "print(len(dataset))\n",
    "#print(dataset.columns)"
   ]
  },
  {
   "cell_type": "code",
   "execution_count": 6,
   "metadata": {},
   "outputs": [
    {
     "name": "stdout",
     "output_type": "stream",
     "text": [
      "88648\n"
     ]
    },
    {
     "data": {
      "text/html": [
       "<div>\n",
       "<style scoped>\n",
       "    .dataframe tbody tr th:only-of-type {\n",
       "        vertical-align: middle;\n",
       "    }\n",
       "\n",
       "    .dataframe tbody tr th {\n",
       "        vertical-align: top;\n",
       "    }\n",
       "\n",
       "    .dataframe thead th {\n",
       "        text-align: right;\n",
       "    }\n",
       "</style>\n",
       "<table border=\"1\" class=\"dataframe\">\n",
       "  <thead>\n",
       "    <tr style=\"text-align: right;\">\n",
       "      <th></th>\n",
       "      <th>tconst</th>\n",
       "      <th>year</th>\n",
       "      <th>genre</th>\n",
       "      <th>imdbRating</th>\n",
       "      <th>numVotes</th>\n",
       "      <th>parentalAdvisor</th>\n",
       "      <th>duree</th>\n",
       "      <th>themaScore</th>\n",
       "    </tr>\n",
       "  </thead>\n",
       "  <tbody>\n",
       "    <tr>\n",
       "      <th>281907</th>\n",
       "      <td>tt4498162</td>\n",
       "      <td>2015</td>\n",
       "      <td>Biography</td>\n",
       "      <td>4.6</td>\n",
       "      <td>376</td>\n",
       "      <td>Not Rated</td>\n",
       "      <td>86.0</td>\n",
       "      <td>0.945579</td>\n",
       "    </tr>\n",
       "    <tr>\n",
       "      <th>68668</th>\n",
       "      <td>tt0091886</td>\n",
       "      <td>1986</td>\n",
       "      <td>Biography</td>\n",
       "      <td>7.4</td>\n",
       "      <td>21424</td>\n",
       "      <td>R</td>\n",
       "      <td>122.0</td>\n",
       "      <td>0.934472</td>\n",
       "    </tr>\n",
       "    <tr>\n",
       "      <th>48054</th>\n",
       "      <td>tt0095341</td>\n",
       "      <td>1988</td>\n",
       "      <td>Documentary</td>\n",
       "      <td>7.6</td>\n",
       "      <td>1472</td>\n",
       "      <td>Unrated</td>\n",
       "      <td>267.0</td>\n",
       "      <td>0.899414</td>\n",
       "    </tr>\n",
       "    <tr>\n",
       "      <th>59579</th>\n",
       "      <td>tt1032854</td>\n",
       "      <td>2007</td>\n",
       "      <td>Documentary</td>\n",
       "      <td>7.1</td>\n",
       "      <td>1593</td>\n",
       "      <td>Unrated</td>\n",
       "      <td>135.0</td>\n",
       "      <td>0.890546</td>\n",
       "    </tr>\n",
       "    <tr>\n",
       "      <th>270773</th>\n",
       "      <td>tt3104656</td>\n",
       "      <td>2015</td>\n",
       "      <td>Documentary</td>\n",
       "      <td>1.6</td>\n",
       "      <td>321</td>\n",
       "      <td>Not Rated</td>\n",
       "      <td>100.0</td>\n",
       "      <td>0.887678</td>\n",
       "    </tr>\n",
       "  </tbody>\n",
       "</table>\n",
       "</div>"
      ],
      "text/plain": [
       "           tconst  year        genre  imdbRating  numVotes parentalAdvisor  \\\n",
       "281907  tt4498162  2015    Biography         4.6       376       Not Rated   \n",
       "68668   tt0091886  1986    Biography         7.4     21424               R   \n",
       "48054   tt0095341  1988  Documentary         7.6      1472         Unrated   \n",
       "59579   tt1032854  2007  Documentary         7.1      1593         Unrated   \n",
       "270773  tt3104656  2015  Documentary         1.6       321       Not Rated   \n",
       "\n",
       "        duree  themaScore  \n",
       "281907   86.0    0.945579  \n",
       "68668   122.0    0.934472  \n",
       "48054   267.0    0.899414  \n",
       "59579   135.0    0.890546  \n",
       "270773  100.0    0.887678  "
      ]
     },
     "metadata": {},
     "output_type": "display_data"
    }
   ],
   "source": [
    "dataset = dataset.sort_values(by=['themaScore'], ascending=False)\n",
    "dataset = dataset.drop_duplicates(subset=['tconst'])\n",
    "\n",
    "print(len(dataset))\n",
    "display(dataset.head())"
   ]
  },
  {
   "cell_type": "code",
   "execution_count": 7,
   "metadata": {},
   "outputs": [
    {
     "name": "stdout",
     "output_type": "stream",
     "text": [
      "88648\n",
      "Taille Dataset :\n",
      "88648\n",
      "Valeurs manquantes en % :\n"
     ]
    },
    {
     "data": {
      "text/plain": [
       "tconst             0.0\n",
       "year               0.0\n",
       "genre              0.0\n",
       "numVotes           0.0\n",
       "parentalAdvisor    0.0\n",
       "duree              0.0\n",
       "themaScore         0.0\n",
       "imdbRating         0.0\n",
       "dtype: float64"
      ]
     },
     "execution_count": 7,
     "metadata": {},
     "output_type": "execute_result"
    }
   ],
   "source": [
    "target_name = 'imdbRating'\n",
    "print(len(dataset))\n",
    "# ReIndex the dataset for put the TARGET on last column. \n",
    "dataset = dataset.reindex(columns = [col for col in dataset.columns if col != target_name] + [target_name])\n",
    "\n",
    "print('Taille Dataset :')\n",
    "print(len(dataset)) \n",
    "print('Valeurs manquantes en % :')\n",
    "100*dataset.isnull().sum()/dataset.shape[0]"
   ]
  },
  {
   "cell_type": "code",
   "execution_count": 8,
   "metadata": {},
   "outputs": [],
   "source": [
    "dataset.to_csv(r'export/dataset.csv', index = False, header=True)"
   ]
  },
  {
   "cell_type": "code",
   "execution_count": null,
   "metadata": {},
   "outputs": [],
   "source": []
  }
 ],
 "metadata": {
  "kernelspec": {
   "display_name": "Python 3.9.5 64-bit",
   "language": "python",
   "name": "python3"
  },
  "language_info": {
   "codemirror_mode": {
    "name": "ipython",
    "version": 3
   },
   "file_extension": ".py",
   "mimetype": "text/x-python",
   "name": "python",
   "nbconvert_exporter": "python",
   "pygments_lexer": "ipython3",
   "version": "3.9.5"
  },
  "orig_nbformat": 4,
  "vscode": {
   "interpreter": {
    "hash": "7812ea015bdcee6f23a998adcdd2ef97c151c0c241b7b7070987d9313e41299d"
   }
  }
 },
 "nbformat": 4,
 "nbformat_minor": 2
}
