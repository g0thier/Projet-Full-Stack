{
 "cells": [
  {
   "cell_type": "code",
   "execution_count": 202,
   "metadata": {},
   "outputs": [],
   "source": [
    "import pandas as pd\n",
    "import numpy as np\n",
    "dataset_sin = pd.read_csv(\"export/dataset_without_resume.csv\", delimiter=',', on_bad_lines='skip')\n",
    "# imdb_resumes_bis.json\n",
    "imdb_resumes = pd.read_json(\"export/imdb_resumes_bis.json\")\n"
   ]
  },
  {
   "cell_type": "code",
   "execution_count": 203,
   "metadata": {},
   "outputs": [],
   "source": [
    "import re\n",
    "\n",
    "pd.options.display.max_rows = None\n",
    "pd.options.display.max_seq_items = None\n",
    "\n",
    "for i in range(len(imdb_resumes)-1): # \n",
    "    raw = imdb_resumes.iloc[i]\n",
    "\n",
    "    values = [ raw['duree'], raw['genre'], raw['parental_advisor'] ]\n",
    "    \n",
    "    imdb_resumes.genre[i] = None\n",
    "    imdb_resumes.duree[i] = None\n",
    "    imdb_resumes.parental_advisor[i] = None\n",
    "\n",
    "    for item in values:\n",
    "\n",
    "        if type(item) is str :\n",
    "            if '\\n' in item:\n",
    "                imdb_resumes.genre[i] = item\n",
    "            elif 'min' in item:\n",
    "                imdb_resumes.duree[i] = item\n",
    "            else :\n",
    "                imdb_resumes.parental_advisor[i] = item"
   ]
  },
  {
   "cell_type": "code",
   "execution_count": 204,
   "metadata": {},
   "outputs": [
    {
     "name": "stderr",
     "output_type": "stream",
     "text": [
      "<ipython-input-204-a3388da07ecf>:3: FutureWarning: The default value of regex will change from True to False in a future version.\n",
      "  imdb_resumes['genre'] = imdb_resumes['genre'].str.replace(r'\\n', '')\n",
      "<ipython-input-204-a3388da07ecf>:5: FutureWarning: The default value of regex will change from True to False in a future version.\n",
      "  imdb_resumes['resume'] = imdb_resumes['resume'].str.replace(r'\\n', '')\n"
     ]
    }
   ],
   "source": [
    "imdb_resumes['duree'] = imdb_resumes['duree'].replace(r'\\D+', '', regex=True)\n",
    "\n",
    "imdb_resumes['genre'] = imdb_resumes['genre'].str.replace(r'\\n', '')\n",
    "\n",
    "imdb_resumes['resume'] = imdb_resumes['resume'].str.replace(r'\\n', '')\n",
    "\n",
    "imdb_resumes['duree'] = [ '0' if x == None else x for x in imdb_resumes['duree']]\n",
    "imdb_resumes['duree'] = imdb_resumes['duree'].astype(int)\n",
    "imdb_resumes['duree'] = [ np.nan if x == 0 else x for x in imdb_resumes['duree']]\n",
    "imdb_resumes = imdb_resumes.dropna(subset=['duree'])\n",
    "\n",
    "imdb_resumes = imdb_resumes.drop_duplicates(subset='imdb_search', keep=\"first\")\n",
    "imdb_resumes = imdb_resumes.reset_index().drop(columns=[\"index\"])"
   ]
  },
  {
   "cell_type": "code",
   "execution_count": 205,
   "metadata": {},
   "outputs": [
    {
     "data": {
      "text/html": [
       "<div>\n",
       "<style scoped>\n",
       "    .dataframe tbody tr th:only-of-type {\n",
       "        vertical-align: middle;\n",
       "    }\n",
       "\n",
       "    .dataframe tbody tr th {\n",
       "        vertical-align: top;\n",
       "    }\n",
       "\n",
       "    .dataframe thead th {\n",
       "        text-align: right;\n",
       "    }\n",
       "</style>\n",
       "<table border=\"1\" class=\"dataframe\">\n",
       "  <thead>\n",
       "    <tr style=\"text-align: right;\">\n",
       "      <th></th>\n",
       "      <th>originalTitle</th>\n",
       "      <th>startYear</th>\n",
       "      <th>genres</th>\n",
       "      <th>averageRating</th>\n",
       "      <th>primaryName</th>\n",
       "      <th>parental_advisor</th>\n",
       "      <th>duree</th>\n",
       "      <th>resume</th>\n",
       "    </tr>\n",
       "  </thead>\n",
       "  <tbody>\n",
       "    <tr>\n",
       "      <th>0</th>\n",
       "      <td>Miss Jerry</td>\n",
       "      <td>1894</td>\n",
       "      <td>Romance</td>\n",
       "      <td>5.3</td>\n",
       "      <td>Alexander Black</td>\n",
       "      <td>None</td>\n",
       "      <td>45.0</td>\n",
       "      <td>The adventures of a female reporter in the 1890s.</td>\n",
       "    </tr>\n",
       "    <tr>\n",
       "      <th>1</th>\n",
       "      <td>The Story of the Kelly Gang</td>\n",
       "      <td>1906</td>\n",
       "      <td>Action,Adventure,Biography</td>\n",
       "      <td>6.0</td>\n",
       "      <td>Charles Tait</td>\n",
       "      <td>Not Rated</td>\n",
       "      <td>70.0</td>\n",
       "      <td>Story of Ned Kelly, an infamous 19th-century A...</td>\n",
       "    </tr>\n",
       "    <tr>\n",
       "      <th>2</th>\n",
       "      <td>L'enfant prodigue</td>\n",
       "      <td>1907</td>\n",
       "      <td>Drama</td>\n",
       "      <td>4.7</td>\n",
       "      <td>Michel Carré</td>\n",
       "      <td>None</td>\n",
       "      <td>90.0</td>\n",
       "      <td>It's a play in three parts. This film is suppo...</td>\n",
       "    </tr>\n",
       "    <tr>\n",
       "      <th>3</th>\n",
       "      <td>Ma l'amor mio non muore...</td>\n",
       "      <td>1914</td>\n",
       "      <td>Drama</td>\n",
       "      <td>6.2</td>\n",
       "      <td>Mario Caserini</td>\n",
       "      <td>None</td>\n",
       "      <td>90.0</td>\n",
       "      <td>Leslie Swayne, an adventurer, in order to obta...</td>\n",
       "    </tr>\n",
       "    <tr>\n",
       "      <th>4</th>\n",
       "      <td>Gli ultimi giorni di Pompei</td>\n",
       "      <td>1913</td>\n",
       "      <td>Adventure,Drama</td>\n",
       "      <td>6.1</td>\n",
       "      <td>Mario Caserini</td>\n",
       "      <td>None</td>\n",
       "      <td>88.0</td>\n",
       "      <td>Two love triangles intersect in ancient Pompei.</td>\n",
       "    </tr>\n",
       "  </tbody>\n",
       "</table>\n",
       "</div>"
      ],
      "text/plain": [
       "                 originalTitle  startYear                      genres  \\\n",
       "0                   Miss Jerry       1894                     Romance   \n",
       "1  The Story of the Kelly Gang       1906  Action,Adventure,Biography   \n",
       "2            L'enfant prodigue       1907                       Drama   \n",
       "3   Ma l'amor mio non muore...       1914                       Drama   \n",
       "4  Gli ultimi giorni di Pompei       1913             Adventure,Drama   \n",
       "\n",
       "   averageRating      primaryName parental_advisor  duree  \\\n",
       "0            5.3  Alexander Black             None   45.0   \n",
       "1            6.0     Charles Tait        Not Rated   70.0   \n",
       "2            4.7     Michel Carré             None   90.0   \n",
       "3            6.2   Mario Caserini             None   90.0   \n",
       "4            6.1   Mario Caserini             None   88.0   \n",
       "\n",
       "                                              resume  \n",
       "0  The adventures of a female reporter in the 1890s.  \n",
       "1  Story of Ned Kelly, an infamous 19th-century A...  \n",
       "2  It's a play in three parts. This film is suppo...  \n",
       "3  Leslie Swayne, an adventurer, in order to obta...  \n",
       "4    Two love triangles intersect in ancient Pompei.  "
      ]
     },
     "execution_count": 205,
     "metadata": {},
     "output_type": "execute_result"
    }
   ],
   "source": [
    "dataset = pd.merge(dataset_sin, imdb_resumes, left_on='imdb_search', right_on='imdb_search')\n",
    "dataset = dataset.drop(columns=['imdb_search','genre', 'numVotes'])\n",
    "for i in range( len(dataset)-1 ):\n",
    "    dataset['resume'] = [elem.replace('  ', '') for elem in dataset['resume']]\n",
    "for i in range( len(dataset)-1 ):\n",
    "    if dataset.iloc[i]['resume'] == ' ':\n",
    "        print(i)\n",
    "        dataset = dataset.drop([i])\n",
    "    elif dataset.iloc[i]['resume'] == '':\n",
    "        print(i)\n",
    "        dataset = dataset.drop([i])\n",
    "dataset.head()"
   ]
  },
  {
   "cell_type": "code",
   "execution_count": 206,
   "metadata": {},
   "outputs": [
    {
     "name": "stderr",
     "output_type": "stream",
     "text": [
      "<ipython-input-206-1222c0ca889a>:27: SettingWithCopyWarning: \n",
      "A value is trying to be set on a copy of a slice from a DataFrame\n",
      "\n",
      "See the caveats in the documentation: https://pandas.pydata.org/pandas-docs/stable/user_guide/indexing.html#returning-a-view-versus-a-copy\n",
      "  dataset.themaScore[i] = bestScore\n",
      "<ipython-input-206-1222c0ca889a>:28: SettingWithCopyWarning: \n",
      "A value is trying to be set on a copy of a slice from a DataFrame\n",
      "\n",
      "See the caveats in the documentation: https://pandas.pydata.org/pandas-docs/stable/user_guide/indexing.html#returning-a-view-versus-a-copy\n",
      "  dataset.genre[i] = bestGenre\n"
     ]
    }
   ],
   "source": [
    "# Convert string Genre to list\n",
    "dataset[\"genres\"] = [ str(x).replace(' ', '') for x in dataset[\"genres\"][:] ] \n",
    "dataset[\"genres\"] = [ x.split(\",\") for x in dataset[\"genres\"][:] ]\n",
    "\n",
    "# https://www.sbert.net/docs/quickstart.html#comparing-sentence-similarities\n",
    "from sentence_transformers import SentenceTransformer, util\n",
    "model = SentenceTransformer('all-MiniLM-L6-v2')\n",
    "# from unittest import result\n",
    "\n",
    "dataset['genre'] = ''\n",
    "dataset['themaScore'] = 0.0\n",
    "\n",
    "for i in range( len(dataset) ):\n",
    "    resume = dataset.iloc[i]['resume']\n",
    "    genres = dataset.iloc[i]['genres']\n",
    "    bestScore = 0.0\n",
    "    bestGenre = ''\n",
    "    for genre in genres:\n",
    "        emb1 = model.encode(str(genre))\n",
    "        emb2 = model.encode(str(resume))\n",
    "        cos_sim = util.cos_sim(emb1, emb2)\n",
    "        result = cos_sim.tolist()[0][0]\n",
    "        if result > bestScore:\n",
    "            bestScore = result\n",
    "            bestGenre = genre\n",
    "    # print(i, '/', len(dataset))\n",
    "    dataset.themaScore[i] = bestScore\n",
    "    dataset.genre[i] = bestGenre\n",
    "dataset = dataset.drop(columns=['genres'])"
   ]
  },
  {
   "cell_type": "code",
   "execution_count": 207,
   "metadata": {},
   "outputs": [],
   "source": [
    "dataset = dataset.rename(columns={\"originalTitle\": \"title\", \"startYear\": \"year\", \"primaryName\" : \"director\", \"parental_advisor\" : \"parentalAdvisor\", \"averageRating\" : \"imdbRating\"})"
   ]
  },
  {
   "cell_type": "code",
   "execution_count": 208,
   "metadata": {},
   "outputs": [],
   "source": [
    "dataset.to_csv(r'export/dataset.csv', index = False, header=True)"
   ]
  }
 ],
 "metadata": {
  "kernelspec": {
   "display_name": "Python 3.9.5 64-bit",
   "language": "python",
   "name": "python3"
  },
  "language_info": {
   "codemirror_mode": {
    "name": "ipython",
    "version": 3
   },
   "file_extension": ".py",
   "mimetype": "text/x-python",
   "name": "python",
   "nbconvert_exporter": "python",
   "pygments_lexer": "ipython3",
   "version": "3.9.5"
  },
  "orig_nbformat": 4,
  "vscode": {
   "interpreter": {
    "hash": "7812ea015bdcee6f23a998adcdd2ef97c151c0c241b7b7070987d9313e41299d"
   }
  }
 },
 "nbformat": 4,
 "nbformat_minor": 2
}
