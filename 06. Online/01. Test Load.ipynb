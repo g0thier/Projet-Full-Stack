{
 "cells": [
  {
   "cell_type": "code",
   "execution_count": 1,
   "metadata": {},
   "outputs": [],
   "source": [
    "import pandas as pd\n",
    "import numpy as np\n",
    "from sklearn.ensemble import RandomForestRegressor"
   ]
  },
  {
   "cell_type": "markdown",
   "metadata": {},
   "source": [
    "# Inputs"
   ]
  },
  {
   "cell_type": "code",
   "execution_count": 2,
   "metadata": {},
   "outputs": [],
   "source": [
    "'''\n",
    "print(\"Give me some informations on this film : \")\n",
    "title = str(input(\"Title :\"))\n",
    "year = input(\"Year :\")\n",
    "parentalAdvisor = str(input(\"Parental advisor :\"))\n",
    "duree = input(\"Film's duration in minutes :\")\n",
    "resume = str(input(\"Resume :\"))\n",
    "genre = str(input(\"Genre (for multi-genres separate by commas) :\"))\n",
    "'''\n",
    "title = 'Miss Jerry'\n",
    "year = 1894\n",
    "parentalAdvisor = 'Not Rated'\n",
    "duree = 70.0\n",
    "resume = 'Story of Ned Kelly, an infamous 19th-century Australian outlaw.'\n",
    "genre = 'Biography'\n",
    "\n",
    "my_film = pd.DataFrame(columns=['title','year','parentalAdvisor','duree','resume','genre'],\n",
    "                          data=[[ title , year , parentalAdvisor , duree , resume , genre ]])\n",
    "\n",
    "target_name = 'imdbRating'"
   ]
  },
  {
   "cell_type": "code",
   "execution_count": 3,
   "metadata": {},
   "outputs": [
    {
     "name": "stderr",
     "output_type": "stream",
     "text": [
      "<ipython-input-3-324a7ddea079>:29: SettingWithCopyWarning: \n",
      "A value is trying to be set on a copy of a slice from a DataFrame\n",
      "\n",
      "See the caveats in the documentation: https://pandas.pydata.org/pandas-docs/stable/user_guide/indexing.html#returning-a-view-versus-a-copy\n",
      "  my_film.themaScore[i] = bestScore\n",
      "<ipython-input-3-324a7ddea079>:30: SettingWithCopyWarning: \n",
      "A value is trying to be set on a copy of a slice from a DataFrame\n",
      "\n",
      "See the caveats in the documentation: https://pandas.pydata.org/pandas-docs/stable/user_guide/indexing.html#returning-a-view-versus-a-copy\n",
      "  my_film.genre[i] = bestGenre\n"
     ]
    }
   ],
   "source": [
    "my_film[\"genres\"] = my_film['genre']\n",
    "\n",
    "# Convert string Genre to list\n",
    "my_film[\"genres\"] = [ str(x).replace(' ', '') for x in my_film[\"genres\"][:] ] \n",
    "my_film[\"genres\"] = [ x.split(\",\") for x in my_film[\"genres\"][:] ]\n",
    "\n",
    "# https://www.sbert.net/docs/quickstart.html#comparing-sentence-similarities\n",
    "from sentence_transformers import SentenceTransformer, util\n",
    "model = SentenceTransformer('all-MiniLM-L6-v2')\n",
    "# from unittest import result\n",
    "\n",
    "my_film['genre'] = ''\n",
    "my_film['themaScore'] = 0.0\n",
    "\n",
    "for i in range( len(my_film) ):\n",
    "    resume = my_film.iloc[i]['resume']\n",
    "    genres = my_film.iloc[i]['genres']\n",
    "    bestScore = 0.0\n",
    "    bestGenre = ''\n",
    "    for genre in genres:\n",
    "        emb1 = model.encode(str(genre))\n",
    "        emb2 = model.encode(str(resume))\n",
    "        cos_sim = util.cos_sim(emb1, emb2)\n",
    "        result = cos_sim.tolist()[0][0]\n",
    "        if result > bestScore:\n",
    "            bestScore = result\n",
    "            bestGenre = genre\n",
    "    # print(i, '/', len(dataset))\n",
    "    my_film.themaScore[i] = bestScore\n",
    "    my_film.genre[i] = bestGenre\n",
    "\n",
    "my_film = my_film.drop(columns=['genres','title','resume'])\n",
    "\n",
    "my_film = my_film.reindex(columns = [col for col in my_film.columns if col != target_name] + [target_name])"
   ]
  },
  {
   "cell_type": "markdown",
   "metadata": {},
   "source": [
    "## Original dataset "
   ]
  },
  {
   "cell_type": "code",
   "execution_count": 4,
   "metadata": {},
   "outputs": [
    {
     "name": "stdout",
     "output_type": "stream",
     "text": [
      "   year  imdbRating parentalAdvisor  duree    genre  themaScore\n",
      "0  1894         5.3             NaN   45.0  Romance    0.151441\n",
      "   year  imdbRating parentalAdvisor  duree      genre  themaScore\n",
      "0  1894         NaN       Not Rated   70.0  Biography    0.304189\n"
     ]
    }
   ],
   "source": [
    "dataset = pd.read_csv('src/dataset.csv', delimiter=',', on_bad_lines='skip')\n",
    "dataset = dataset.drop(columns=['title', 'director', 'resume'])\n",
    "my_film = my_film[dataset.columns.to_list()]\n",
    "print(dataset.head(1))\n",
    "print(my_film.head(1))"
   ]
  },
  {
   "cell_type": "markdown",
   "metadata": {},
   "source": [
    "## Separation Varibles / Target"
   ]
  },
  {
   "cell_type": "code",
   "execution_count": 5,
   "metadata": {},
   "outputs": [],
   "source": [
    "X = dataset.drop(columns= [target_name])\n",
    "X_train = dataset.drop(columns= [target_name])\n",
    "Y_train = dataset[:][target_name]\n",
    "\n",
    "X_test = my_film.drop(columns= [target_name])\n",
    "Y_test = my_film[:][target_name]"
   ]
  },
  {
   "cell_type": "markdown",
   "metadata": {},
   "source": [
    "## Pipeline Préprocessor "
   ]
  },
  {
   "cell_type": "code",
   "execution_count": 6,
   "metadata": {},
   "outputs": [],
   "source": [
    "## Médiane quantitative & plus fréquent qualitatif\n",
    "\n",
    "from sklearn.pipeline import Pipeline\n",
    "from sklearn.impute import SimpleImputer\n",
    "from sklearn.preprocessing import( OneHotEncoder, StandardScaler, LabelEncoder )\n",
    "from sklearn.compose import ColumnTransformer\n",
    "\n",
    "# Create pipeline for numeric features\n",
    "numeric_features = X.select_dtypes([np.number]).columns # Automatically detect positions of numeric columns\n",
    "numeric_transformer = Pipeline(steps=[\n",
    "    ('imputer', SimpleImputer(strategy='median')), # missing values will be replaced by columns' median\n",
    "    ('scaler', StandardScaler())\n",
    "])\n",
    "\n",
    "# Create pipeline for categorical features\n",
    "categorical_features = X.select_dtypes(\"object\").columns # Automatically detect positions of categorical columns\n",
    "categorical_transformer = Pipeline(\n",
    "    steps=[\n",
    "    ('imputer', SimpleImputer(strategy='most_frequent')), # missing values will be replaced by most frequent value\n",
    "    ('encoder', OneHotEncoder(drop='first')) # first column will be dropped to avoid creating correlations between features\n",
    "    ])\n",
    "\n",
    "# Use ColumnTransformer to make a preprocessor object that describes all the treatments to be done\n",
    "preprocessor = ColumnTransformer(\n",
    "    transformers=[\n",
    "        ('num', numeric_transformer, numeric_features),\n",
    "        ('cat', categorical_transformer, categorical_features)\n",
    "    ])\n",
    "\n",
    "X_train = preprocessor.fit_transform(X_train) # Preprocessing influenceur\n",
    "X_test = preprocessor.transform(X_test) # Preprocessing copieur\n"
   ]
  },
  {
   "cell_type": "markdown",
   "metadata": {},
   "source": [
    "## Training\n",
    "### Random Forest"
   ]
  },
  {
   "cell_type": "code",
   "execution_count": 7,
   "metadata": {},
   "outputs": [
    {
     "data": {
      "text/plain": [
       "5.79"
      ]
     },
     "execution_count": 7,
     "metadata": {},
     "output_type": "execute_result"
    }
   ],
   "source": [
    "from sklearn.ensemble import RandomForestRegressor\n",
    "import joblib\n",
    "\n",
    "model = joblib.load(\"src/random_forest.joblib\")\n",
    "\n",
    "my_imdb_score = model.predict(X_test)[0]\n",
    "\n",
    "my_imdb_score"
   ]
  }
 ],
 "metadata": {
  "kernelspec": {
   "display_name": "Python 3.9.5 64-bit",
   "language": "python",
   "name": "python3"
  },
  "language_info": {
   "codemirror_mode": {
    "name": "ipython",
    "version": 3
   },
   "file_extension": ".py",
   "mimetype": "text/x-python",
   "name": "python",
   "nbconvert_exporter": "python",
   "pygments_lexer": "ipython3",
   "version": "3.9.5"
  },
  "orig_nbformat": 4,
  "vscode": {
   "interpreter": {
    "hash": "7812ea015bdcee6f23a998adcdd2ef97c151c0c241b7b7070987d9313e41299d"
   }
  }
 },
 "nbformat": 4,
 "nbformat_minor": 2
}
