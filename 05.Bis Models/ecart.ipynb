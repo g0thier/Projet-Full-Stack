{
 "cells": [
  {
   "cell_type": "code",
   "execution_count": 49,
   "metadata": {},
   "outputs": [],
   "source": [
    "import math\n",
    "\n",
    "def ecartExponantiel(chiffre, moyenne): \n",
    "    returnValue = moyenne\n",
    "\n",
    "    if chiffre == moyenne:\n",
    "        returnValue = chiffre\n",
    "\n",
    "    elif chiffre > moyenne:\n",
    "        ecart = chiffre-moyenne\n",
    "        logy = math.log10( ecart + 1 ) \n",
    "        returnValue = chiffre + (ecart * logy)\n",
    "\n",
    "    else :\n",
    "        ecart = moyenne-chiffre\n",
    "        logy = math.log10( ecart + 1 )\n",
    "        \n",
    "        returnValue = chiffre - (ecart * logy)\n",
    "\n",
    "    if returnValue > 10:\n",
    "        return 10\n",
    "    elif returnValue < 0:\n",
    "        return 0\n",
    "    else:\n",
    "        return returnValue\n"
   ]
  }
 ],
 "metadata": {
  "kernelspec": {
   "display_name": "Python 3.9.5 64-bit",
   "language": "python",
   "name": "python3"
  },
  "language_info": {
   "codemirror_mode": {
    "name": "ipython",
    "version": 3
   },
   "file_extension": ".py",
   "mimetype": "text/x-python",
   "name": "python",
   "nbconvert_exporter": "python",
   "pygments_lexer": "ipython3",
   "version": "3.9.5"
  },
  "orig_nbformat": 4,
  "vscode": {
   "interpreter": {
    "hash": "7812ea015bdcee6f23a998adcdd2ef97c151c0c241b7b7070987d9313e41299d"
   }
  }
 },
 "nbformat": 4,
 "nbformat_minor": 2
}
