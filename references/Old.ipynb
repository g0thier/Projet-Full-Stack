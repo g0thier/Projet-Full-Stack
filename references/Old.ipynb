{
 "cells": [
  {
   "cell_type": "markdown",
   "metadata": {},
   "source": [
    "## Old \n",
    "\n",
    "[ Lieux de tournage à Paris ](https://opendata.paris.fr/explore/dataset/lieux-de-tournage-a-paris/export/?disjunctive.type_tournage&disjunctive.nom_tournage&disjunctive.nom_realisateur&disjunctive.nom_producteur&disjunctive.ardt_lieu)\n",
    "\n",
    "~~[ Registre des autorisations de changement d'usage pour les meublés touristiques ](https://opendata.paris.fr/explore/dataset/registre-des-autorisations-de-changement-dusage-pour-les-meubles/information/?disjunctive.arrondissement)~~\n",
    "\n",
    "~~[ Paris autrement ](https://opendata.paris.fr/explore/dataset/paris-autrement-balades-dans-les-arrondissements-peripheriques-poi/information/?disjunctive.code_postal&disjunctive.parcours&disjunctive.categorie&disjunctive.mot_cle)~~ \n",
    "\n",
    "~~[ Référentiel archéologique de Paris ](https://opendata.paris.fr/explore/dataset/referentiel-archeologique-de-paris/table/?disjunctive.code_postal&disjunctive.nature_operation&disjunctive.responsable_operation&disjunctive.date_operation&disjunctive.prehistoire&disjunctive.protohistoire&disjunctive.antiquite&disjunctive.moyen_age&disjunctive.temps_modernes&disjunctive.epoque_contemporaine&sort=-date_operation)~~\n",
    "\n",
    "~~[ Criminalité ](https://www.data.gouv.fr/fr/datasets/chiffres-departementaux-mensuels-relatifs-aux-crimes-et-delits-enregistres-par-les-services-de-police-et-de-gendarmerie-depuis-janvier-1996/)~~"
   ]
  },
  {
   "cell_type": "markdown",
   "metadata": {},
   "source": [
    "#### Questions Ouvertes \n",
    "\n",
    "#### Influence des films sur la Ville de Paris. \n",
    " * Lien entre la fréquence des tournages sur un quartier et sa propreté \n",
    " * Lien entre la fréquence des tournages sur un quartier et ses installation ( banc, sanitaire , wifi, etc ) \n",
    " * Lien entre la fréquence des tournages sur un quartier et son entretien ( qualité ) \n",
    " * Lien entre la fréquence des tournages sur un quartier et ses zones touristiques (musée etc ) \n",
    " * Lien entre la fréquence des tournages sur un quartier et sa fréquentation touristique (nb de gens) \n",
    "\n",
    "#### Influence des Quartiers sur un film. \n",
    " * Quels quartiers produisent des super productions / films d’auteurs\n",
    " * Quels quartiers produisent tel genre de film ( comédie, drame, action et aventure ) \n",
    " * Quels quartiers attirent les stars / les acteurs. \n",
    " * Quels quartiers attirent les gros budgets \n",
    " * Quels quartiers par tranches d’âge des acteurs. \n",
    "\t\n",
    "#### Récurrences cyclique \n",
    " * Position des productions par mois \n",
    " * Combien de film produit une star par an\n",
    " * Modes cinématographique par genre\n",
    " * Star en tournage ou non\n",
    "\t\n",
    "\n",
    "#### Peut-on estimer ? \n",
    " * Le succes d'un film \n",
    " * Le succes d'un acteur/trice\n",
    " * Le genre de film par lieux \n",
    " * Dans quel quartier croiser des stars\n",
    " * Dans quel quartier on peut croiser une star -> airbnb"
   ]
  }
 ],
 "metadata": {
  "kernelspec": {
   "display_name": "Python 3.9.5 64-bit",
   "language": "python",
   "name": "python3"
  },
  "language_info": {
   "name": "python",
   "version": "3.9.5"
  },
  "orig_nbformat": 4,
  "vscode": {
   "interpreter": {
    "hash": "7812ea015bdcee6f23a998adcdd2ef97c151c0c241b7b7070987d9313e41299d"
   }
  }
 },
 "nbformat": 4,
 "nbformat_minor": 2
}
