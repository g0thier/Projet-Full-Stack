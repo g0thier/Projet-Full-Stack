{
 "cells": [
  {
   "cell_type": "markdown",
   "metadata": {},
   "source": [
    "# Magie du cinéma dans la ville lumière : \n",
    "\n",
    "##\n",
    "## Peut-on deviner le succès d'un film grace à ses lieux de tournage.\n",
    "##\n",
    "\n",
    "### Partie 1 : Data Analyse\n",
    "_Cartographies interessantes sur les tournages effectué à Paris sur une periode d'étendant de 2016 à 2021_\n",
    "\n",
    "* Sur les lieux de tournage en eux-même \n",
    "* Sur les activité cinématographique, culturel, touristique et temps de la ville associé \n",
    "* Sur l'urbanisme facilitant ou mettant en difficulté l'instalation d'un plateau de tournage \n",
    "* Sur la circulation associé à ses lieux de tournages. \n",
    "\n",
    "### Partie 2 : Web Scraping Extraction de données complémentaire sur le dataset.\n",
    "\n",
    "* Sur les acteurs\n",
    "* Sur les films \n",
    "\n",
    "### Partie 3 : Machine learning Supervisé \n",
    "\n",
    "* Classification lineaire\n",
    "* Classification logistique\n",
    "* Times séries\n",
    "\n",
    "### Partie 4 : Machine learning Non-Supervisé \n",
    "\n",
    "* Clustering DBSCAN \n",
    "\n",
    "### Partie 5 : Déploiment\n",
    "\n",
    "* Page streamlit avec toutes les informations présentées\n"
   ]
  },
  {
   "cell_type": "markdown",
   "metadata": {},
   "source": [
    "## Dataset principale :"
   ]
  },
  {
   "cell_type": "markdown",
   "metadata": {},
   "source": [
    "__Type de tournage__\n",
    " * [ Lieux de tournage à Paris ](https://opendata.paris.fr/explore/dataset/lieux-de-tournage-a-paris/export/?disjunctive.type_tournage&disjunctive.nom_tournage&disjunctive.nom_realisateur&disjunctive.nom_producteur&disjunctive.ardt_lieu)\n",
    "\n",
    "__Durée de tournage__\n",
    " * [ Lieux de tournage à Paris ](https://opendata.paris.fr/explore/dataset/lieux-de-tournage-a-paris/export/?disjunctive.type_tournage&disjunctive.nom_tournage&disjunctive.nom_realisateur&disjunctive.nom_producteur&disjunctive.ardt_lieu)\n",
    "\n",
    "__Quartier de tournage__\n",
    " * [ Lieux de tournage à Paris ](https://opendata.paris.fr/explore/dataset/lieux-de-tournage-a-paris/export/?disjunctive.type_tournage&disjunctive.nom_tournage&disjunctive.nom_realisateur&disjunctive.nom_producteur&disjunctive.ardt_lieu)"
   ]
  },
  {
   "cell_type": "markdown",
   "metadata": {},
   "source": [
    "## Datasets secondaires :"
   ]
  },
  {
   "cell_type": "markdown",
   "metadata": {},
   "source": [
    "### 1. Activitées\n",
    "\n",
    "__Comparaison avec fréquentation des Cinémas__\n",
    " * [ Lieux de tournage à Paris ](https://opendata.paris.fr/explore/dataset/lieux-de-tournage-a-paris/export/?disjunctive.type_tournage&disjunctive.nom_tournage&disjunctive.nom_realisateur&disjunctive.nom_producteur&disjunctive.ardt_lieu)\n",
    " * [ Fréquentation dans les salles de cinéma ](https://data.culture.gouv.fr/explore/dataset/frequentation-dans-les-salles-de-cinema/export/?disjunctive.annee)\n",
    "\n",
    "__Comparaison Géographique avec spectacle vivant à Paris__\n",
    " * [ Lieux de tournage à Paris ](https://opendata.paris.fr/explore/dataset/lieux-de-tournage-a-paris/export/?disjunctive.type_tournage&disjunctive.nom_tournage&disjunctive.nom_realisateur&disjunctive.nom_producteur&disjunctive.ardt_lieu)\n",
    " * [ Les lieux de diffusion du spectacle vivant ](https://data.iledefrance.fr/explore/dataset/les-lieux-de-diffusion-reguliere-ou-occasionnelle-du-spectacle-vivant-a-paris/information/)\n",
    "\n",
    "__Comparaison Géographique avec zones touristiques à Paris__\n",
    " * [ Lieux de tournage à Paris ](https://opendata.paris.fr/explore/dataset/lieux-de-tournage-a-paris/export/?disjunctive.type_tournage&disjunctive.nom_tournage&disjunctive.nom_realisateur&disjunctive.nom_producteur&disjunctive.ardt_lieu)\n",
    " * [ Zones Touristiques Internationales ](https://opendata.paris.fr/explore/dataset/zones-touristiques-internationales/map/?disjunctive.name&location=12,48.85399,2.33404&basemap=jawg.streets)\n",
    "\n",
    "__Comparaison Géographique & Temporaire avec activitées à Paris__\n",
    " * [ Lieux de tournage à Paris ](https://opendata.paris.fr/explore/dataset/lieux-de-tournage-a-paris/export/?disjunctive.type_tournage&disjunctive.nom_tournage&disjunctive.nom_realisateur&disjunctive.nom_producteur&disjunctive.ardt_lieu)\n",
    " * [ Que faire à Paris ](https://opendata.paris.fr/explore/dataset/que-faire-a-paris-/information/?disjunctive.tags&disjunctive.address_name&disjunctive.address_zipcode&disjunctive.address_city&disjunctive.pmr&disjunctive.blind&disjunctive.deaf&disjunctive.transport&disjunctive.price_type&disjunctive.access_type&disjunctive.programs)\n",
    "\n",
    "__Comparaison Géographique avec activitées associatives à Paris__\n",
    " * [ Lieux de tournage à Paris ](https://opendata.paris.fr/explore/dataset/lieux-de-tournage-a-paris/export/?disjunctive.type_tournage&disjunctive.nom_tournage&disjunctive.nom_realisateur&disjunctive.nom_producteur&disjunctive.ardt_lieu)\n",
    " * [ Liste des associations parisiennes ](https://opendata.paris.fr/explore/dataset/liste_des_associations_parisiennes/table/)\n",
    "\n",
    "__Comparaison Géographique avec marchés à Paris__\n",
    " * [ Lieux de tournage à Paris ](https://opendata.paris.fr/explore/dataset/lieux-de-tournage-a-paris/export/?disjunctive.type_tournage&disjunctive.nom_tournage&disjunctive.nom_realisateur&disjunctive.nom_producteur&disjunctive.ardt_lieu)\n",
    " * [ Marchés découverts ](https://opendata.paris.fr/explore/dataset/marches-decouverts/information/?disjunctive.produit&disjunctive.ardt&disjunctive.jours_tenue&disjunctive.gestionnaire)"
   ]
  },
  {
   "cell_type": "markdown",
   "metadata": {},
   "source": [
    "### 2. Urbanisme\n",
    "\n",
    "__Comparaison Géographique avec le mobilier urbain__\n",
    " * [ Lieux de tournage à Paris ](https://opendata.paris.fr/explore/dataset/lieux-de-tournage-a-paris/export/?disjunctive.type_tournage&disjunctive.nom_tournage&disjunctive.nom_realisateur&disjunctive.nom_producteur&disjunctive.ardt_lieu)\n",
    " * [ Plan de voirie - Mobiliers urbains - Bornes - Barrières - Potelets ](https://opendata.paris.fr/explore/dataset/plan-de-voirie-mobiliers-urbains-bornes-barrieres-potelets/information/?disjunctive.num_pave&disjunctive.lib_level)\n",
    " * [ Kiosques de presse ](https://opendata.paris.fr/explore/dataset/kiosques-de-presse/information/?disjunctive.code_postal&disjunctive.type_activite)\n",
    " * [ Éclairage public ](https://opendata.paris.fr/explore/dataset/eclairage-public/information/?disjunctive.lib_domain&disjunctive.lib_ouvrag&disjunctive.lib_regime&disjunctive.nature_voi&disjunctive.lib_voiedo&disjunctive.materiau_s&disjunctive.type_suppo&disjunctive.modele_lum&disjunctive.lib_lumi_1&disjunctive.lib_lampef)\n",
    "\n",
    "__Comparaison Géographique avec les commoditées urbaines__\n",
    " * [ Lieux de tournage à Paris ](https://opendata.paris.fr/explore/dataset/lieux-de-tournage-a-paris/export/?disjunctive.type_tournage&disjunctive.nom_tournage&disjunctive.nom_realisateur&disjunctive.nom_producteur&disjunctive.ardt_lieu)\n",
    " * [ Toilettes publiques ](https://opendata.paris.fr/explore/dataset/sanisettesparis/information/?disjunctive.type&disjunctive.statut&disjunctive.arrondissement&disjunctive.horaire&disjunctive.acces_pmr&disjunctive.relais_bebe)\n",
    " * [ Fontaines à boire ](https://opendata.paris.fr/explore/dataset/fontaines-a-boire/table/?disjunctive.type_objet&disjunctive.modele&disjunctive.commune&disjunctive.dispo)\n",
    " * [ Lieux de fraîcheur ](https://opendata.paris.fr/explore/dataset/ilots-de-fraicheur-equipements-activites/map/?disjunctive.type&disjunctive.payant&disjunctive.arrondissement&disjunctive.horaires_periode&basemap=jawg.dark&location=16,48.8614,2.34751)\n",
    " * [ Wifi public ](https://opendata.paris.fr/explore/dataset/sites-disposant-du-service-paris-wi-fi/information/?disjunctive.cp&disjunctive.etat2)\n",
    "\n",
    "__Comparaison Géographique avec l'entretien urbain__\n",
    " * [ Lieux de tournage à Paris ](https://opendata.paris.fr/explore/dataset/lieux-de-tournage-a-paris/export/?disjunctive.type_tournage&disjunctive.nom_tournage&disjunctive.nom_realisateur&disjunctive.nom_producteur&disjunctive.ardt_lieu)\n",
    " * [ Anomalies signalées ](https://opendata.paris.fr/explore/dataset/dans-ma-rue-historique-anomalies-signalees/information/)\n",
    "\n",
    "__Comparaison Géographique & temporel avec rafraichissement urbain__\n",
    " * [ Lieux de tournage à Paris ](https://opendata.paris.fr/explore/dataset/lieux-de-tournage-a-paris/export/?disjunctive.type_tournage&disjunctive.nom_tournage&disjunctive.nom_realisateur&disjunctive.nom_producteur&disjunctive.ardt_lieu)\n",
    " * [ Autorisations d'Urbanisme ](https://opendata.paris.fr/explore/dataset/autorisations-durbanisme-h/information/?disjunctive.decision_autorite&disjunctive.type_dossier&disjunctive.arrondissement&disjunctive.mois_decision&disjunctive.mois_depot)\n",
    " * [ Chantiers à Paris ](https://opendata.paris.fr/explore/dataset/chantiers-a-paris/information/?disjunctive.cp_arrondissement&disjunctive.chantier_categorie&disjunctive.moa_principal&disjunctive.chantier_synthese&disjunctive.localisation_detail&disjunctive.localisation_stationnement)\n",
    "\n",
    "__Comparaison Géographique & temporel avec l'investissement urbain__\n",
    " * [ Lieux de tournage à Paris ](https://opendata.paris.fr/explore/dataset/lieux-de-tournage-a-paris/export/?disjunctive.type_tournage&disjunctive.nom_tournage&disjunctive.nom_realisateur&disjunctive.nom_producteur&disjunctive.ardt_lieu)\n",
    " * [ Budget Participatif ](https://opendata.paris.fr/explore/dataset/budget-participatif_operations-projets-gagnants-realisations/information/?disjunctive.thematique&disjunctive.type_financement_operation&disjunctive.arrondissement_operation&disjunctive.operation_q_pop&disjunctive.quartier_operation&disjunctive.avancement_operation&disjunctive.direction_pilote_projet&basemap=jawg.dark&location=12,48.85986,2.34405)"
   ]
  },
  {
   "cell_type": "markdown",
   "metadata": {},
   "source": [
    "### 3. Circulation automobile \n",
    "\n",
    "__Comparaison Géographique avec fluidité du trafic__\n",
    " * [ Lieux de tournage à Paris ](https://opendata.paris.fr/explore/dataset/lieux-de-tournage-a-paris/export/?disjunctive.type_tournage&disjunctive.nom_tournage&disjunctive.nom_realisateur&disjunctive.nom_producteur&disjunctive.ardt_lieu)\n",
    " * [ Traffic routier ](https://opendata.paris.fr/explore/dataset/comptages-routiers-permanents/table/?disjunctive.libelle&disjunctive.etat_trafic&disjunctive.libelle_nd_amont&disjunctive.libelle_nd_aval&sort=t_1h)\n",
    "\n",
    "__Comparaison Géographique avec zones vitesse limitée__\n",
    " * [ Lieux de tournage à Paris ](https://opendata.paris.fr/explore/dataset/lieux-de-tournage-a-paris/export/?disjunctive.type_tournage&disjunctive.nom_tournage&disjunctive.nom_realisateur&disjunctive.nom_producteur&disjunctive.ardt_lieu)\n",
    " * [ Zones de rencontre ](https://opendata.paris.fr/explore/dataset/zones-de-rencontre/information/?disjunctive.first_arrdt)\n",
    "\n",
    "__Comparaison Géographique avec les zones payantes__\n",
    " * [ Lieux de tournage à Paris ](https://opendata.paris.fr/explore/dataset/lieux-de-tournage-a-paris/export/?disjunctive.type_tournage&disjunctive.nom_tournage&disjunctive.nom_realisateur&disjunctive.nom_producteur&disjunctive.ardt_lieu)\n",
    " * [ Horodateurs ](https://opendata.paris.fr/explore/dataset/horodateurs-mobiliers/information/?disjunctive.arrondt&disjunctive.regime&disjunctive.acces_pmr&disjunctive.tarif&disjunctive.zoneres&disjunctive.tarifhor&disjunctive.paiement)\n",
    "\n",
    "__Comparaison Géographique avec les zones pietonnes__\n",
    " * [ Lieux de tournage à Paris ](https://opendata.paris.fr/explore/dataset/lieux-de-tournage-a-paris/export/?disjunctive.type_tournage&disjunctive.nom_tournage&disjunctive.nom_realisateur&disjunctive.nom_producteur&disjunctive.ardt_lieu)\n",
    " * [ Aires piétonnes et assimilées ](https://opendata.paris.fr/explore/dataset/aires-pietonnes/information/)"
   ]
  },
  {
   "cell_type": "markdown",
   "metadata": {},
   "source": [
    "## Datasets tertiaire : Web Scraping"
   ]
  },
  {
   "cell_type": "markdown",
   "metadata": {},
   "source": [
    "__Information sur tout les acteurs français__\n",
    " * [ agences artistiques ](https://www.agencesartistiques.com/recherche_metier.cfm)\n",
    "\n",
    "__Information sur les films français__\n",
    " * [ Lieux de tournage à Paris ](https://opendata.paris.fr/explore/dataset/lieux-de-tournage-a-paris/export/?disjunctive.type_tournage&disjunctive.nom_tournage&disjunctive.nom_realisateur&disjunctive.nom_producteur&disjunctive.ardt_lieu)\n",
    " * [ exemple film rang 1 IMDB ](https://www.imdb.com/find?s=tt&q=CIGARE+AU+MIEL&ref_=nv_sr_sm)"
   ]
  },
  {
   "cell_type": "markdown",
   "metadata": {},
   "source": [
    "## Prédictions :\n",
    "\n",
    "Classification lineaire : Quelles sera la note IMDB du film en train de se tourner, son budget ?\n",
    "\n",
    "Classification logistique : Quel est le genre du film tournée (humour, policier), Blockbuster ou Cinéma d'auteur ?\n",
    "\n",
    "Times séries : Combien de films et séries seront tournées à Paris durant les prochaines années , quels quartiers vont devenir hype ?\n",
    "\n",
    "Clustering : Quelles sont les stars susseptible de tourner dans mon quartier.\n"
   ]
  },
  {
   "cell_type": "markdown",
   "metadata": {},
   "source": [
    "## Déploiement :"
   ]
  }
 ],
 "metadata": {
  "kernelspec": {
   "display_name": "Python 3.9.5 64-bit",
   "language": "python",
   "name": "python3"
  },
  "language_info": {
   "name": "python",
   "version": "3.9.5"
  },
  "orig_nbformat": 4,
  "vscode": {
   "interpreter": {
    "hash": "7812ea015bdcee6f23a998adcdd2ef97c151c0c241b7b7070987d9313e41299d"
   }
  }
 },
 "nbformat": 4,
 "nbformat_minor": 2
}
